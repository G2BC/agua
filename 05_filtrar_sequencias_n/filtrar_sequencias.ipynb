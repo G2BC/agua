{
 "cells": [
  {
   "cell_type": "code",
   "execution_count": 5,
   "metadata": {},
   "outputs": [],
   "source": [
    "import os\n",
    "from Bio import SeqIO\n",
    "from Bio.Seq import Seq\n",
    "from Bio.SeqRecord import SeqRecord"
   ]
  },
  {
   "cell_type": "code",
   "execution_count": 6,
   "metadata": {},
   "outputs": [],
   "source": [
    "# Função para verificar se uma sequência possui mais de 30 N's consecutivos\n",
    "def possui_mais_de_30_Ns(sequencia):\n",
    "    return 'N' * 30 in sequencia"
   ]
  },
  {
   "cell_type": "code",
   "execution_count": 7,
   "metadata": {},
   "outputs": [],
   "source": [
    "def read_gene_sequences(file_genome_sequences):\n",
    "    multiple_genomes = []\n",
    "    with open(file_genome_sequences) as handle:\n",
    "        for values in SeqIO.FastaIO.SimpleFastaParser(handle):\n",
    "            sequence_id, sequence = values\n",
    "            multiple_genomes.append((sequence_id, sequence))\n",
    "\n",
    "    return multiple_genomes"
   ]
  },
  {
   "cell_type": "code",
   "execution_count": 8,
   "metadata": {},
   "outputs": [
    {
     "name": "stdout",
     "output_type": "stream",
     "text": [
      "Analisando sequências em B.1.1.529\n",
      "Analisando sequências em B.1.1.7\n",
      "Analisando sequências em B.1.617.2\n",
      "Analisando sequências em P.1\n",
      "Analisando sequências em B.1.351\n",
      "Concluído!\n"
     ]
    }
   ],
   "source": [
    "# Diretório principal onde você possui várias pastas\n",
    "diretorio_principal = '/home/m_souza/tcc/dataset/new_dataset_vagner'\n",
    "\n",
    "# Tamanho de nucleotídeos da ref spike\n",
    "tam_seq_spike = 3822\n",
    "\n",
    "# Iterar sobre as pastas no diretório principal\n",
    "for pasta in os.listdir(diretorio_principal):\n",
    "    pasta_path = os.path.join(diretorio_principal, pasta)\n",
    "\n",
    "    # Verificar se é um diretório\n",
    "    if os.path.isdir(pasta_path):\n",
    "        # Procurar pelo arquivo sequencias_cortadas.fasta na pasta\n",
    "        arquivo_sequencias = os.path.join(pasta_path, 'sequencias_spike_alinhadas.fasta')\n",
    "\n",
    "        path_sequencias_filtradas = os.path.join(pasta_path, 'sequencias_spike_filtradas.fasta')\n",
    "\n",
    "        # Verificar se o arquivo existe\n",
    "        if os.path.exists(arquivo_sequencias):\n",
    "            print(f'Analisando sequências em {pasta}')\n",
    "\n",
    "            # Ler as sequências do arquivo usando a Biopython\n",
    "            sequencias = read_gene_sequences(arquivo_sequencias)\n",
    "            # for seq in sequencias:\n",
    "            #     print(seq[1])\n",
    "\n",
    "            # Filtrar sequências com mais de 30 N's consecutivos\n",
    "            sequencias_filtradas = []\n",
    "            for seq_tuple in sequencias:\n",
    "                seq_id, seq_sequence = seq_tuple\n",
    "                if not possui_mais_de_30_Ns(seq_sequence) and len(seq_sequence) == 3822:\n",
    "                    # Criar um objeto SeqRecord com ID e sequência\n",
    "                    seq_record = SeqRecord(Seq(seq_sequence), id=seq_id, description='')\n",
    "                    sequencias_filtradas.append(seq_record)\n",
    "\n",
    "            # Sobrescrever o arquivo original com as sequências filtradas\n",
    "            with open(path_sequencias_filtradas, \"w\") as novo_arquivo:\n",
    "                SeqIO.write(sequencias_filtradas, novo_arquivo, \"fasta\")\n",
    "\n",
    "            # # Imprimir ou fazer o que quiser com as sequências filtradas\n",
    "            # for seq in sequencias_filtradas:\n",
    "            #     # print(f'Sequência ID: {seq.id} - Comprimento: {len(seq.seq)}')\n",
    "            #     print(seq)\n",
    "\n",
    "print('Concluído!')\n"
   ]
  }
 ],
 "metadata": {
  "kernelspec": {
   "display_name": ".bioEnv",
   "language": "python",
   "name": "python3"
  },
  "language_info": {
   "codemirror_mode": {
    "name": "ipython",
    "version": 3
   },
   "file_extension": ".py",
   "mimetype": "text/x-python",
   "name": "python",
   "nbconvert_exporter": "python",
   "pygments_lexer": "ipython3",
   "version": "3.10.12"
  },
  "orig_nbformat": 4
 },
 "nbformat": 4,
 "nbformat_minor": 2
}
