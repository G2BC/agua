{
 "cells": [
  {
   "cell_type": "code",
   "execution_count": 17,
   "metadata": {},
   "outputs": [],
   "source": [
    "from Bio.Blast.Applications import NcbiblastnCommandline\n",
    "from Bio.Blast import NCBIXML\n",
    "from Bio import SeqIO\n",
    "import io"
   ]
  },
  {
   "cell_type": "code",
   "execution_count": 18,
   "metadata": {},
   "outputs": [
    {
     "name": "stdout",
     "output_type": "stream",
     "text": [
      "number of sequences in file  /home/m_souza/Desktop/BVBRC_genome_sequence.fasta  =  77\n"
     ]
    }
   ],
   "source": [
    "fname = \"/home/m_souza/Desktop/BVBRC_genome_sequence.fasta\"\n",
    "\n",
    "multiple_genomes=[]\n",
    "with open(fname) as handle:\n",
    "    for values in SeqIO.FastaIO.SimpleFastaParser(handle):\n",
    "        multiple_genomes.append(values)\n",
    "        # print(values[0])\n",
    "        # print(t[-1][0])\n",
    "\n",
    "Nseq=len(multiple_genomes)\n",
    "print(\"number of sequences in file \",fname,\" = \",Nseq)"
   ]
  },
  {
   "cell_type": "code",
   "execution_count": 19,
   "metadata": {},
   "outputs": [],
   "source": [
    "def buscar_posicao_gene(sequencia_gene, genoma):\n",
    "    # Executar o BLAST para buscar a posição do gene no genoma\n",
    "    comando_blast = NcbiblastnCommandline(query=sequencia_gene, subject=genoma, outfmt=5)\n",
    "    stdout, stderr = comando_blast()\n",
    "\n",
    "    # Analisar o resultado XML do BLAST\n",
    "    # resultado_blast = NCBIXML.read(stdout)\n",
    "    resultado_blast = NCBIXML.read(io.StringIO(stdout))\n",
    "    if len(resultado_blast.alignments) == 0:\n",
    "        print('O gene não foi encontrado no genoma.')\n",
    "        return\n",
    "\n",
    "    alinhamento = resultado_blast.alignments[0]\n",
    "    hsp = alinhamento.hsps[0]\n",
    "\n",
    "    posicao_inicio = hsp.sbjct_start\n",
    "    posicao_fim = hsp.sbjct_end\n",
    "\n",
    "    print(f'O gene foi encontrado na posição {posicao_inicio}-{posicao_fim}.')"
   ]
  },
  {
   "cell_type": "code",
   "execution_count": 20,
   "metadata": {},
   "outputs": [
    {
     "name": "stdout",
     "output_type": "stream",
     "text": [
      "O gene foi encontrado na posição 21457-25275.\n",
      "Busca concluida.\n"
     ]
    }
   ],
   "source": [
    "# resultado = NCBIWWW.qblast(\"blastn\", \"nt\",t[0][1], format_type=\"Text\")\n",
    "# # print(t[0][1])\n",
    "# print(resultado.read())\n",
    "\n",
    "# Sequência do gene\n",
    "sequencia_gene = '/home/m_souza/Desktop/refSpike.fasta'\n",
    "\n",
    "# Caminho para o arquivo do genoma\n",
    "genoma = '/home/m_souza/Desktop/_unique_sequences.fasta'\n",
    "\n",
    "# Chamar a função para buscar a posição do gene\n",
    "buscar_posicao_gene(sequencia_gene, genoma)\n",
    "# buscar_posicao_gene(sequencia_gene, multiple_genomes[0][1])\n",
    "\n",
    "print(\"Busca concluida.\" )"
   ]
  },
  {
   "cell_type": "code",
   "execution_count": null,
   "metadata": {},
   "outputs": [],
   "source": []
  }
 ],
 "metadata": {
  "kernelspec": {
   "display_name": "base",
   "language": "python",
   "name": "python3"
  },
  "language_info": {
   "codemirror_mode": {
    "name": "ipython",
    "version": 3
   },
   "file_extension": ".py",
   "mimetype": "text/x-python",
   "name": "python",
   "nbconvert_exporter": "python",
   "pygments_lexer": "ipython3",
   "version": "3.10.6"
  },
  "orig_nbformat": 4
 },
 "nbformat": 4,
 "nbformat_minor": 2
}
