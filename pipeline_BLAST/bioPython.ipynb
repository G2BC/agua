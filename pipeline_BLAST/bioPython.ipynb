{
 "cells": [
  {
   "cell_type": "code",
   "execution_count": null,
   "metadata": {},
   "outputs": [],
   "source": [
    "import time\n",
    "\n",
    "start_time = time.time()"
   ]
  },
  {
   "cell_type": "markdown",
   "metadata": {},
   "source": [
    "### Importações das Bibs Necessárias\n"
   ]
  },
  {
   "cell_type": "code",
   "execution_count": null,
   "metadata": {},
   "outputs": [],
   "source": [
    "from Bio.Blast.Applications import NcbiblastnCommandline\n",
    "from Bio.Blast import NCBIXML\n",
    "from Bio import SeqIO\n",
    "from Bio.Application import ApplicationError\n",
    "import tempfile\n",
    "import os\n",
    "from io import StringIO"
   ]
  },
  {
   "cell_type": "markdown",
   "metadata": {},
   "source": [
    "### Leitura das Sequências\n",
    "\n",
    "Recebe o path do arquivo fasta e retorna array com sequências\n"
   ]
  },
  {
   "cell_type": "code",
   "execution_count": null,
   "metadata": {},
   "outputs": [],
   "source": [
    "def read_genome_sequences(file_genome_sequences):\n",
    "    multiple_genomes = []\n",
    "\n",
    "    with open(file_genome_sequences) as handle:\n",
    "        for values in SeqIO.FastaIO.SimpleFastaParser(handle):\n",
    "            multiple_genomes.append(values)\n",
    "\n",
    "    # number_sequences = len(multiple_genomes)\n",
    "    # print('number of sequences in file',\n",
    "    #       file_genome_sequences, ' = ', number_sequences)\n",
    "\n",
    "    return multiple_genomes"
   ]
  },
  {
   "cell_type": "markdown",
   "metadata": {},
   "source": [
    "### Método para Encontrar as Posições do Gene no Genoma\n"
   ]
  },
  {
   "cell_type": "code",
   "execution_count": null,
   "metadata": {},
   "outputs": [],
   "source": [
    "def fetch_gene_position(gene_path, genome_path):\n",
    "    try:\n",
    "        # Executar o BLAST para buscar a posição do gene no genoma\n",
    "        comando_blast = NcbiblastnCommandline(\n",
    "            query=gene_path, subject=genome_path, outfmt=5)\n",
    "        stdout, stderr = comando_blast()\n",
    "\n",
    "        # Analisar o resultado XML do BLAST\n",
    "        resultado_blast = NCBIXML.read(StringIO(stdout))\n",
    "        if len(resultado_blast.alignments) == 0:\n",
    "            print('O gene não foi encontrado no genoma.')\n",
    "            return\n",
    "\n",
    "        alinhamento = resultado_blast.alignments[0]\n",
    "        hsp = alinhamento.hsps[0]\n",
    "\n",
    "        gene_positions = []\n",
    "        gene_positions.append(hsp.sbjct_start)\n",
    "        gene_positions.append(hsp.sbjct_end)\n",
    "\n",
    "        return gene_positions\n",
    "    \n",
    "    except ApplicationError as e:\n",
    "        print('Ocorreu um erro durante a busca da posição do gene:')\n",
    "        print(e)\n",
    "        return None\n",
    "    \n",
    "    except TypeError:\n",
    "        print('Ocorreu um erro de tipo durante a busca da posição do gene.')\n",
    "        return None"
   ]
  },
  {
   "cell_type": "markdown",
   "metadata": {},
   "source": [
    "### Main\n"
   ]
  },
  {
   "cell_type": "code",
   "execution_count": null,
   "metadata": {},
   "outputs": [],
   "source": [
    "# Sequência do gene spike\n",
    "reference_gene_file_path = '/home/maume/UnEB/TCC/Implementation/pipeline_BLAST/refSpike.fasta'\n",
    "# Path do Dataset dos Genomas\n",
    "# root_directory = '/home/maume/UnEB/TCC/Dataset/sequencias_teste'\n",
    "root_directory = '/home/maume/UnEB/TCC/Dataset/sequencias_teste_bkp'\n",
    "# Nome do arquivo de saída com Genes Spike\n",
    "gene_file_name = 'gene_spike.fasta'\n",
    "\n",
    "# Variável para acompanhar o número de arquivos processados\n",
    "files_processed = 0\n",
    "\n",
    "# Percorrer todas as pastas e arquivos\n",
    "for root_folder, folders, files in os.walk(root_directory):\n",
    "    for file in files:\n",
    "        genome_file_path = os.path.join(root_folder, file)\n",
    "        if genome_file_path.endswith('_unique_sequences.fasta'):\n",
    "            files_processed += 1\n",
    "            print(f'Processando {files_processed}º arquivo: {genome_file_path}')\n",
    "            genome_sequences = read_genome_sequences(genome_file_path)\n",
    "\n",
    "            for genome_sequence in genome_sequences:\n",
    "\n",
    "              # Criar um arquivo temporário para armazenar a sequência de DNA do genoma\n",
    "                temp_file = tempfile.NamedTemporaryFile(mode='w', delete=False)\n",
    "                temp_file.write(f'>{genome_sequence[0]}\\n{genome_sequence[1]}')\n",
    "\n",
    "                # Caminho para o arquivo temporário do genoma\n",
    "                genoma_temp_file = temp_file.name\n",
    "\n",
    "                # Pega as Posições Inicial e Final do Gene no Genoma e Pega a Substring\n",
    "                positions = fetch_gene_position(\n",
    "                    reference_gene_file_path, genoma_temp_file)\n",
    "                \n",
    "                if positions is not None:\n",
    "                    gene_start_position, gene_final_position = positions\n",
    "                    gene_sequence = genome_sequence[1][gene_start_position:gene_final_position + 1]\n",
    "                    gene_file_path = os.path.join(root_folder, gene_file_name)\n",
    "\n",
    "                    with open(gene_file_path, 'a') as gene_file:\n",
    "                        gene_file.write(\n",
    "                            f'>spike(pos.ini:{gene_start_position} pos.fin:{gene_final_position}){genome_sequence[0]}\\n{gene_sequence}\\n')\n",
    "\n",
    "                    # Remover o arquivo temporário\n",
    "                    os.remove(genoma_temp_file)\n",
    "\n",
    "                    temp_file.close()\n",
    "                else:\n",
    "                    print(f'Sequência não processada: {genome_sequence[0]}')\n",
    "\n",
    "print('Busca Completa Concluída.')"
   ]
  },
  {
   "cell_type": "code",
   "execution_count": null,
   "metadata": {},
   "outputs": [],
   "source": [
    "from datetime import datetime\n",
    "\n",
    "end_time = time.time()\n",
    "\n",
    "elapsed_time = end_time - start_time\n",
    "current_datetime = datetime.now().strftime('%Y-%m-%d %H:%M:%S')"
   ]
  },
  {
   "cell_type": "markdown",
   "metadata": {},
   "source": [
    "### Salvando Informações Sobra a Execução\n"
   ]
  },
  {
   "cell_type": "code",
   "execution_count": null,
   "metadata": {},
   "outputs": [],
   "source": [
    "import platform\n",
    "import psutil\n",
    "\n",
    "machine_info = platform.uname()\n",
    "memory_info = psutil.virtual_memory()\n",
    "\n",
    "path_directory = '/home/maume/UnEB/TCC/Implementation/pipeline_BLAST'\n",
    "\n",
    "content = 'Informações Sobre a Última Execução\\n\\n'\n",
    "content += f'Data e Hora da Execução: {current_datetime}\\n'\n",
    "content += f'Tempo Total de Execução: {round(elapsed_time, 2)} Segundos\\n'\n",
    "content += f'Caminho do Dataset Utilizado: {root_directory}'\n",
    "content += f'\\nInformações da Máquina Utilizada\\n'\n",
    "content += f'S.O.: Ubuntu 22.04.2 LTS x86_64\\n'\n",
    "content += f'Kernel: {machine_info.release}\\n'\n",
    "content += f'CPU: Intel i7-6500U (4) @ 3.100GHz {machine_info.processor}\\n'\n",
    "content += f'Total de Memória: {round(memory_info.total / (1024 ** 3), 2)}\\n'\n",
    "\n",
    "\n",
    "output_file_name = 'execution_information.txt'\n",
    "output_file_path = os.path.join(path_directory, output_file_name)\n",
    "\n",
    "with open(output_file_path, 'w') as output_file:\n",
    "    output_file.write(content)\n",
    "\n",
    "print(f'Information saved to file: {output_file_path}')"
   ]
  }
 ],
 "metadata": {
  "kernelspec": {
   "display_name": "base",
   "language": "python",
   "name": "python3"
  },
  "language_info": {
   "codemirror_mode": {
    "name": "ipython",
    "version": 3
   },
   "file_extension": ".py",
   "mimetype": "text/x-python",
   "name": "python",
   "nbconvert_exporter": "python",
   "pygments_lexer": "ipython3",
   "version": "3.10.6"
  },
  "orig_nbformat": 4
 },
 "nbformat": 4,
 "nbformat_minor": 2
}
