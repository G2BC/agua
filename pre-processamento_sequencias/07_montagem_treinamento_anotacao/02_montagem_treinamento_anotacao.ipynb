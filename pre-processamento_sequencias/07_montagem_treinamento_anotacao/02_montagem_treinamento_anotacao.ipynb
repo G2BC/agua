{
 "cells": [
  {
   "cell_type": "code",
   "execution_count": 1,
   "metadata": {},
   "outputs": [],
   "source": [
    "import os\n",
    "from Bio import SeqIO\n",
    "from Bio.Seq import Seq\n",
    "from Bio.SeqRecord import SeqRecord"
   ]
  },
  {
   "cell_type": "code",
   "execution_count": 2,
   "metadata": {},
   "outputs": [],
   "source": [
    "def read_gene_sequences(file_gene_sequences):\n",
    "    multiple_genomes = []\n",
    "    with open(file_gene_sequences) as handle:\n",
    "        for values in SeqIO.FastaIO.SimpleFastaParser(handle):\n",
    "            sequence_id, sequence = values\n",
    "            multiple_genomes.append((sequence_id, sequence))\n",
    "\n",
    "    return multiple_genomes"
   ]
  },
  {
   "cell_type": "code",
   "execution_count": 18,
   "metadata": {},
   "outputs": [
    {
     "name": "stdout",
     "output_type": "stream",
     "text": [
      "Analisando sequências em B.1.1.529\n",
      "Concluído!\n"
     ]
    }
   ],
   "source": [
    "# Diretório principal onde você possui várias pastas\n",
    "# diretorio_principal = '/home/m_souza/tcc/dataset/new_dataset_vagner'\n",
    "diretorio_principal ='/home/m_souza/tcc/dataset/new_dataset_vagner/_testes_02/_t05'\n",
    "\n",
    "# Diretório de saída\n",
    "# diretorio_saida = '/home/m_souza/tcc/dataset/dataset_agua'\n",
    "\n",
    "# Número de sequências extraídas por Lineage\n",
    "quantidade_sequencias = 100\n",
    "\n",
    "# Nome do arquivo de treinamento\n",
    "arquivo_treinamento_iniciais = os.path.join(diretorio_principal, 'iniciais_sequencias_treinamento.fasta')\n",
    "arquivo_treinamento_finais = os.path.join(diretorio_principal, 'finais_sequencias_treinamento.fasta')\n",
    "\n",
    "# Nome do arquivo de anotações\n",
    "arquivo_anotacoes_iniciais = os.path.join(diretorio_principal, 'iniciais_anotacoes.txt')\n",
    "arquivo_anotacoes_finais = os.path.join(diretorio_principal, 'finais_anotacoes.txt')\n",
    "\n",
    "# Lista para armazenar as informações de anotações\n",
    "anotacoes_iniciais = []\n",
    "anotacoes_finais = []\n",
    "\n",
    "# Iterar sobre as pastas no diretório principal\n",
    "for pasta in os.listdir(diretorio_principal):\n",
    "    pasta_path = os.path.join(diretorio_principal, pasta)\n",
    "\n",
    "    # Verificar se é um diretório\n",
    "    if os.path.isdir(pasta_path):\n",
    "        # Procurar pelo arquivo sequencias_cortadas.fasta na pasta\n",
    "        arquivo_sequencias = os.path.join(pasta_path, 'sequencias_spike_final_ok.fasta')\n",
    "\n",
    "        # Verificar se o arquivo existe\n",
    "        if os.path.exists(arquivo_sequencias):\n",
    "            print(f'Analisando sequências em {pasta}')\n",
    "\n",
    "            # Ler as sequências do arquivo usando a Biopython\n",
    "            sequencias = read_gene_sequences(arquivo_sequencias)\n",
    "\n",
    "            # Salvar as primeiras 'quantidade_sequencias' sequências em sequencias_treinamento.fasta\n",
    "            with open(arquivo_treinamento_iniciais, 'a') as treinamento_file:\n",
    "                for seq_id, seq in sequencias[:quantidade_sequencias]:\n",
    "                    SeqIO.write(SeqRecord(Seq(seq), id=seq_id, description=''), treinamento_file, 'fasta')\n",
    "                    anotacao = f'{seq_id},{pasta}'\n",
    "                    anotacoes_iniciais.append(anotacao)\n",
    "\n",
    "            # Salvar as últimas 'quantidade_sequencias' sequências em sequencias_treinamento.fasta\n",
    "            with open(arquivo_treinamento_finais, 'a') as treinamento_file:\n",
    "                for seq_id, seq in sequencias[-quantidade_sequencias:]:\n",
    "                    SeqIO.write(SeqRecord(Seq(seq), id=seq_id, description=''), treinamento_file, 'fasta')\n",
    "                    anotacao = f'{seq_id},{pasta}'\n",
    "                    anotacoes_finais.append(anotacao)\n",
    "\n",
    "# Salvar as anotações em anotacoes.txt\n",
    "with open(arquivo_anotacoes_iniciais, 'w') as anotacoes_file:\n",
    "    anotacoes_file.write('\\n'.join(anotacoes_iniciais))\n",
    "# Salvar as anotações em anotacoes.txt\n",
    "with open(arquivo_anotacoes_finais, 'w') as anotacoes_file:\n",
    "    anotacoes_file.write('\\n'.join(anotacoes_finais))\n",
    "\n",
    "print('Concluído!')"
   ]
  }
 ],
 "metadata": {
  "kernelspec": {
   "display_name": ".bioEnv",
   "language": "python",
   "name": "python3"
  },
  "language_info": {
   "codemirror_mode": {
    "name": "ipython",
    "version": 3
   },
   "file_extension": ".py",
   "mimetype": "text/x-python",
   "name": "python",
   "nbconvert_exporter": "python",
   "pygments_lexer": "ipython3",
   "version": "3.10.12"
  },
  "orig_nbformat": 4
 },
 "nbformat": 4,
 "nbformat_minor": 2
}
