{
 "cells": [
  {
   "cell_type": "code",
   "execution_count": 78,
   "metadata": {},
   "outputs": [],
   "source": [
    "import time\n",
    "\n",
    "start_time = time.time()"
   ]
  },
  {
   "cell_type": "markdown",
   "metadata": {},
   "source": [
    "### Importações das Bibs Necessárias\n"
   ]
  },
  {
   "cell_type": "code",
   "execution_count": 79,
   "metadata": {},
   "outputs": [],
   "source": [
    "from Bio import SeqIO\n",
    "from Bio.Seq import Seq\n",
    "from Bio.SeqRecord import SeqRecord\n",
    "from Bio.Align import MultipleSeqAlignment\n",
    "from Bio.Align.Applications import ClustalOmegaCommandline\n",
    "from Bio import AlignIO\n",
    "import matplotlib.pyplot as plt\n",
    "import os\n",
    "import tempfile"
   ]
  },
  {
   "cell_type": "markdown",
   "metadata": {},
   "source": [
    "### Leitura da sequência de referência"
   ]
  },
  {
   "cell_type": "code",
   "execution_count": 80,
   "metadata": {},
   "outputs": [],
   "source": [
    "def read_reference_sequence(reference_file_path):\n",
    "    with open(reference_file_path) as handle:\n",
    "        reference_sequence = \"\".join(line.strip().lower() for line in handle)\n",
    "    return reference_sequence"
   ]
  },
  {
   "cell_type": "markdown",
   "metadata": {},
   "source": [
    "### Leitura das Sequências\n",
    "\n",
    "Recebe o path do arquivo fasta e retorna array com sequências\n"
   ]
  },
  {
   "cell_type": "code",
   "execution_count": 81,
   "metadata": {},
   "outputs": [],
   "source": [
    "def read_gene_sequences(gene_file_path):\n",
    "    gene_sequences = []\n",
    "    with open(gene_file_path) as handle:\n",
    "        for record in SeqIO.parse(handle, \"fasta\"):\n",
    "            sequence = str(record.seq).lower()\n",
    "            gene_sequences.append(sequence)\n",
    "    return gene_sequences"
   ]
  },
  {
   "cell_type": "markdown",
   "metadata": {},
   "source": [
    "### Alinhamento Múltiplo com Referência\n",
    "\n",
    "Recebe uma sequência de referência e as sequências genicas e realiza o alinhamento com o ClutalOmega"
   ]
  },
  {
   "cell_type": "code",
   "execution_count": 82,
   "metadata": {},
   "outputs": [],
   "source": [
    "def perform_alignment_with_reference(reference_sequence, gene_sequence):\n",
    "    input_file = \"input.fasta\"\n",
    "    output_file = \"output.fasta\"\n",
    "\n",
    "    # Adiciona a sequência de referência ao arquivo \"input.fasta\"\n",
    "    fake_reference = SeqRecord(Seq(reference_sequence), id=\"reference\")\n",
    "    with open(input_file, \"w\") as handle:\n",
    "        SeqIO.write([fake_reference, SeqRecord(Seq(gene_sequence), id=\"gene\")], handle, \"fasta\")\n",
    "\n",
    "    # Executa o alinhamento usando o Clustal Omega\n",
    "    clustalomega_cline = ClustalOmegaCommandline(\n",
    "        infile=input_file,\n",
    "        outfile=output_file,\n",
    "        verbose=True,\n",
    "        auto=True\n",
    "    )\n",
    "    clustalomega_cline()\n",
    "\n",
    "    # Remove os arquivos temporários\n",
    "    os.remove(input_file)\n",
    "\n",
    "    # Lê o arquivo de saída do alinhamento\n",
    "    alignment = AlignIO.read(output_file, \"fasta\")\n",
    "    os.remove(output_file)\n",
    "\n",
    "    return alignment"
   ]
  },
  {
   "cell_type": "markdown",
   "metadata": {},
   "source": [
    "### Visualização dos Resultados"
   ]
  },
  {
   "cell_type": "code",
   "execution_count": 83,
   "metadata": {},
   "outputs": [],
   "source": [
    "def visualize_alignment(alignment):\n",
    "    # Calcula o percentual de identidade para cada posição do alinhamento\n",
    "    identity_percentages = []\n",
    "    for column in range(alignment.get_alignment_length()):\n",
    "        column_data = alignment[:, column]\n",
    "        identity_percentage = column_data.count(column_data[0]) / len(column_data) * 100\n",
    "        identity_percentages.append(identity_percentage)\n",
    "\n",
    "    # Plota o gráfico de percentual de identidade\n",
    "    plt.plot(identity_percentages)\n",
    "    plt.xlabel(\"Position\")\n",
    "    plt.ylabel(\"Identity Percentage\")\n",
    "    plt.title(\"Identity Percentage by Position\")\n",
    "    plt.show()"
   ]
  },
  {
   "cell_type": "markdown",
   "metadata": {},
   "source": [
    "### Salva alinhamento em um arquivo"
   ]
  },
  {
   "cell_type": "code",
   "execution_count": 92,
   "metadata": {},
   "outputs": [],
   "source": [
    "def save_alignment_to_file(alignments, output_file_path):\n",
    "    # Salva todos os alinhamentos em um único arquivo\n",
    "    with open(output_file_path, \"a\") as handle:\n",
    "        for alignment in alignments:\n",
    "            for i, record in enumerate(alignment):\n",
    "                if i != 0:  # Pula a primeira sequência (a de referência)\n",
    "                    original_header = record.description.split(' ', 1)[1]\n",
    "                    SeqIO.write(SeqRecord(seq=record.seq, id=record.id, description=original_header), handle, \"fasta\")"
   ]
  },
  {
   "cell_type": "markdown",
   "metadata": {},
   "source": [
    "### Main\n"
   ]
  },
  {
   "cell_type": "code",
   "execution_count": 85,
   "metadata": {},
   "outputs": [],
   "source": [
    "# Caminho para o arquivo com os genes\n",
    "gene_file_path = \"/home/maume/UnEB/TCC/Dataset/sequencias_teste_bkp/A.2/gene_spike.fasta\"\n",
    "\n",
    "# Pré-processamento gene referência\n",
    "#Caminho para o arquivo com a seq de referência\n",
    "gene_reference_path = \"/home/maume/UnEB/TCC/Implementation/refSpike.fasta\"\n",
    "\n",
    "# Lê a sequência de referência\n",
    "reference_sequence = read_reference_sequence(gene_reference_path)\n",
    "\n",
    "# Lê as sequências genicas\n",
    "gene_sequences = read_gene_sequences(gene_file_path)\n",
    "\n",
    "# Realiza o sequenciamento múltiplo com referência com o Clustal Omega para cada sequência genica\n",
    "alignments = []\n",
    "for gene_sequence in gene_sequences:\n",
    "    alignment = perform_alignment_with_reference(reference_sequence, gene_sequence)\n",
    "    alignments.append(alignment)"
   ]
  },
  {
   "cell_type": "markdown",
   "metadata": {},
   "source": [
    "### Salva alinhamentos em arquivo e gera visualizações"
   ]
  },
  {
   "cell_type": "code",
   "execution_count": 94,
   "metadata": {},
   "outputs": [
    {
     "name": "stdout",
     "output_type": "stream",
     "text": [
      "[<<class 'Bio.Align.MultipleSeqAlignment'> instance (2 records of length 3823) at 7f0a7c119300>, <<class 'Bio.Align.MultipleSeqAlignment'> instance (2 records of length 3823) at 7f0a7c11a710>, <<class 'Bio.Align.MultipleSeqAlignment'> instance (2 records of length 3823) at 7f0a7c118190>, <<class 'Bio.Align.MultipleSeqAlignment'> instance (2 records of length 3823) at 7f0a7c11bbe0>, <<class 'Bio.Align.MultipleSeqAlignment'> instance (2 records of length 3823) at 7f0a7c11b970>, <<class 'Bio.Align.MultipleSeqAlignment'> instance (2 records of length 3823) at 7f0a7773dcc0>, <<class 'Bio.Align.MultipleSeqAlignment'> instance (2 records of length 3823) at 7f0a7c1b9360>, <<class 'Bio.Align.MultipleSeqAlignment'> instance (2 records of length 3823) at 7f0a7773de40>, <<class 'Bio.Align.MultipleSeqAlignment'> instance (2 records of length 3823) at 7f0a7c1b9f30>, <<class 'Bio.Align.MultipleSeqAlignment'> instance (2 records of length 3823) at 7f0a7773fee0>, <<class 'Bio.Align.MultipleSeqAlignment'> instance (2 records of length 3823) at 7f0a7773f7c0>, <<class 'Bio.Align.MultipleSeqAlignment'> instance (2 records of length 3823) at 7f0a7773ebf0>, <<class 'Bio.Align.MultipleSeqAlignment'> instance (2 records of length 3823) at 7f0a7773f3a0>, <<class 'Bio.Align.MultipleSeqAlignment'> instance (2 records of length 3823) at 7f0a7c1b80a0>, <<class 'Bio.Align.MultipleSeqAlignment'> instance (2 records of length 3823) at 7f0a7773e0b0>, <<class 'Bio.Align.MultipleSeqAlignment'> instance (2 records of length 3823) at 7f0a7c185330>, <<class 'Bio.Align.MultipleSeqAlignment'> instance (2 records of length 3823) at 7f0a7773fd60>, <<class 'Bio.Align.MultipleSeqAlignment'> instance (2 records of length 3823) at 7f0a7c187c70>, <<class 'Bio.Align.MultipleSeqAlignment'> instance (2 records of length 3823) at 7f0a7773cbb0>, <<class 'Bio.Align.MultipleSeqAlignment'> instance (2 records of length 3823) at 7f0a7c184f40>, <<class 'Bio.Align.MultipleSeqAlignment'> instance (2 records of length 3823) at 7f0a7773da80>, <<class 'Bio.Align.MultipleSeqAlignment'> instance (2 records of length 3823) at 7f0a7c186ce0>, <<class 'Bio.Align.MultipleSeqAlignment'> instance (2 records of length 3823) at 7f0a7773dc90>, <<class 'Bio.Align.MultipleSeqAlignment'> instance (2 records of length 3823) at 7f0a7c1ba8c0>, <<class 'Bio.Align.MultipleSeqAlignment'> instance (2 records of length 3823) at 7f0a7773ed40>, <<class 'Bio.Align.MultipleSeqAlignment'> instance (2 records of length 3823) at 7f0a7c1ba770>, <<class 'Bio.Align.MultipleSeqAlignment'> instance (2 records of length 3823) at 7f0a7773e8c0>, <<class 'Bio.Align.MultipleSeqAlignment'> instance (2 records of length 3823) at 7f0a7c1ba3b0>, <<class 'Bio.Align.MultipleSeqAlignment'> instance (2 records of length 3823) at 7f0a7773d1b0>, <<class 'Bio.Align.MultipleSeqAlignment'> instance (2 records of length 3832) at 7f0a7c1ba2f0>, <<class 'Bio.Align.MultipleSeqAlignment'> instance (2 records of length 3823) at 7f0a7773cf70>, <<class 'Bio.Align.MultipleSeqAlignment'> instance (2 records of length 3823) at 7f0a7c1b9150>, <<class 'Bio.Align.MultipleSeqAlignment'> instance (2 records of length 3823) at 7f0a7773f220>, <<class 'Bio.Align.MultipleSeqAlignment'> instance (2 records of length 3823) at 7f0a7c1b8b50>, <<class 'Bio.Align.MultipleSeqAlignment'> instance (2 records of length 3823) at 7f0a7773de10>, <<class 'Bio.Align.MultipleSeqAlignment'> instance (2 records of length 3823) at 7f0a7c1bb100>, <<class 'Bio.Align.MultipleSeqAlignment'> instance (2 records of length 3823) at 7f0a7c11a260>, <<class 'Bio.Align.MultipleSeqAlignment'> instance (2 records of length 3823) at 7f0a7c11a560>, <<class 'Bio.Align.MultipleSeqAlignment'> instance (2 records of length 3823) at 7f0a7c11ad10>, <<class 'Bio.Align.MultipleSeqAlignment'> instance (2 records of length 3823) at 7f0a7c11ac50>, <<class 'Bio.Align.MultipleSeqAlignment'> instance (2 records of length 3823) at 7f0a7c1181c0>, <<class 'Bio.Align.MultipleSeqAlignment'> instance (2 records of length 3823) at 7f0a7c1b9b40>, <<class 'Bio.Align.MultipleSeqAlignment'> instance (2 records of length 3823) at 7f0a7f6579a0>, <<class 'Bio.Align.MultipleSeqAlignment'> instance (2 records of length 3823) at 7f0a7c184490>, <<class 'Bio.Align.MultipleSeqAlignment'> instance (2 records of length 3823) at 7f0a7c1a4070>, <<class 'Bio.Align.MultipleSeqAlignment'> instance (2 records of length 3823) at 7f0a7c11a8f0>, <<class 'Bio.Align.MultipleSeqAlignment'> instance (2 records of length 3823) at 7f0a7c1870a0>, <<class 'Bio.Align.MultipleSeqAlignment'> instance (2 records of length 3823) at 7f0a7c119e10>, <<class 'Bio.Align.MultipleSeqAlignment'> instance (2 records of length 3823) at 7f0a7f656f80>, <<class 'Bio.Align.MultipleSeqAlignment'> instance (2 records of length 3823) at 7f0a7c118580>, <<class 'Bio.Align.MultipleSeqAlignment'> instance (2 records of length 3823) at 7f0a7f656a10>, <<class 'Bio.Align.MultipleSeqAlignment'> instance (2 records of length 3823) at 7f0a7c1187c0>, <<class 'Bio.Align.MultipleSeqAlignment'> instance (2 records of length 3823) at 7f0a7773d4e0>, <<class 'Bio.Align.MultipleSeqAlignment'> instance (2 records of length 3823) at 7f0a7f6576d0>, <<class 'Bio.Align.MultipleSeqAlignment'> instance (2 records of length 3823) at 7f0a7773d420>, <<class 'Bio.Align.MultipleSeqAlignment'> instance (2 records of length 3823) at 7f0a7c118f70>, <<class 'Bio.Align.MultipleSeqAlignment'> instance (2 records of length 3823) at 7f0a7773ca00>, <<class 'Bio.Align.MultipleSeqAlignment'> instance (2 records of length 3823) at 7f0a7f6576a0>, <<class 'Bio.Align.MultipleSeqAlignment'> instance (2 records of length 3823) at 7f0a7773f4c0>, <<class 'Bio.Align.MultipleSeqAlignment'> instance (2 records of length 3823) at 7f0a7c11a4a0>, <<class 'Bio.Align.MultipleSeqAlignment'> instance (2 records of length 3823) at 7f0a7773e7d0>, <<class 'Bio.Align.MultipleSeqAlignment'> instance (2 records of length 3823) at 7f0a7c1a5510>, <<class 'Bio.Align.MultipleSeqAlignment'> instance (2 records of length 3823) at 7f0a7c1a7370>, <<class 'Bio.Align.MultipleSeqAlignment'> instance (2 records of length 3823) at 7f0a7c11af50>, <<class 'Bio.Align.MultipleSeqAlignment'> instance (2 records of length 3823) at 7f0a7c1a4160>, <<class 'Bio.Align.MultipleSeqAlignment'> instance (2 records of length 3823) at 7f0a7c11b430>, <<class 'Bio.Align.MultipleSeqAlignment'> instance (2 records of length 3823) at 7f0a7c1a4520>, <<class 'Bio.Align.MultipleSeqAlignment'> instance (2 records of length 3823) at 7f0a7c11b910>, <<class 'Bio.Align.MultipleSeqAlignment'> instance (2 records of length 3823) at 7f0a7c1a62c0>, <<class 'Bio.Align.MultipleSeqAlignment'> instance (2 records of length 3823) at 7f0a7c1ba5c0>, <<class 'Bio.Align.MultipleSeqAlignment'> instance (2 records of length 3823) at 7f0a7c1a6aa0>, <<class 'Bio.Align.MultipleSeqAlignment'> instance (2 records of length 3822) at 7f0a7c11a740>, <<class 'Bio.Align.MultipleSeqAlignment'> instance (2 records of length 3823) at 7f0a7c1a58d0>, <<class 'Bio.Align.MultipleSeqAlignment'> instance (2 records of length 3822) at 7f0a7c119b70>, <<class 'Bio.Align.MultipleSeqAlignment'> instance (2 records of length 3823) at 7f0a7c11bfa0>, <<class 'Bio.Align.MultipleSeqAlignment'> instance (2 records of length 3823) at 7f0a7d28dcf0>, <<class 'Bio.Align.MultipleSeqAlignment'> instance (2 records of length 3823) at 7f0a7d28f430>, <<class 'Bio.Align.MultipleSeqAlignment'> instance (2 records of length 3823) at 7f0a7d28d480>, <<class 'Bio.Align.MultipleSeqAlignment'> instance (2 records of length 3823) at 7f0a7d28d690>, <<class 'Bio.Align.MultipleSeqAlignment'> instance (2 records of length 3822) at 7f0a7d28d990>, <<class 'Bio.Align.MultipleSeqAlignment'> instance (2 records of length 3823) at 7f0a7d28ccd0>, <<class 'Bio.Align.MultipleSeqAlignment'> instance (2 records of length 3823) at 7f0a7d28cee0>, <<class 'Bio.Align.MultipleSeqAlignment'> instance (2 records of length 3823) at 7f0a7d28d5a0>, <<class 'Bio.Align.MultipleSeqAlignment'> instance (2 records of length 3823) at 7f0a7d28eb90>, <<class 'Bio.Align.MultipleSeqAlignment'> instance (2 records of length 3823) at 7f0a7d28fa00>, <<class 'Bio.Align.MultipleSeqAlignment'> instance (2 records of length 3823) at 7f0a7d28f4c0>, <<class 'Bio.Align.MultipleSeqAlignment'> instance (2 records of length 3823) at 7f0a7d28e320>, <<class 'Bio.Align.MultipleSeqAlignment'> instance (2 records of length 3823) at 7f0a7d28d960>, <<class 'Bio.Align.MultipleSeqAlignment'> instance (2 records of length 3823) at 7f0a7c1bb5e0>, <<class 'Bio.Align.MultipleSeqAlignment'> instance (2 records of length 3823) at 7f0a7d28d810>, <<class 'Bio.Align.MultipleSeqAlignment'> instance (2 records of length 3823) at 7f0a7c1ba350>, <<class 'Bio.Align.MultipleSeqAlignment'> instance (2 records of length 3823) at 7f0a7d28e7a0>, <<class 'Bio.Align.MultipleSeqAlignment'> instance (2 records of length 3823) at 7f0a7c1b9c90>, <<class 'Bio.Align.MultipleSeqAlignment'> instance (2 records of length 3823) at 7f0a7773c190>, <<class 'Bio.Align.MultipleSeqAlignment'> instance (2 records of length 3823) at 7f0a7773e710>, <<class 'Bio.Align.MultipleSeqAlignment'> instance (2 records of length 3823) at 7f0a7c186dd0>, <<class 'Bio.Align.MultipleSeqAlignment'> instance (2 records of length 3823) at 7f0a7f656fb0>, <<class 'Bio.Align.MultipleSeqAlignment'> instance (2 records of length 3823) at 7f0a7d28e650>, <<class 'Bio.Align.MultipleSeqAlignment'> instance (2 records of length 3823) at 7f0a7f6570d0>, <<class 'Bio.Align.MultipleSeqAlignment'> instance (2 records of length 3823) at 7f0a7d28ee00>, <<class 'Bio.Align.MultipleSeqAlignment'> instance (2 records of length 3823) at 7f0a7c1a6a70>, <<class 'Bio.Align.MultipleSeqAlignment'> instance (2 records of length 3823) at 7f0a7c11b220>, <<class 'Bio.Align.MultipleSeqAlignment'> instance (2 records of length 3823) at 7f0a7f656aa0>, <<class 'Bio.Align.MultipleSeqAlignment'> instance (2 records of length 3823) at 7f0a7773dfc0>, <<class 'Bio.Align.MultipleSeqAlignment'> instance (2 records of length 3823) at 7f0a7c1850c0>, <<class 'Bio.Align.MultipleSeqAlignment'> instance (2 records of length 3823) at 7f0a7d28ea70>, <<class 'Bio.Align.MultipleSeqAlignment'> instance (2 records of length 3823) at 7f0a7f657760>, <<class 'Bio.Align.MultipleSeqAlignment'> instance (2 records of length 3823) at 7f0a7773d570>, <<class 'Bio.Align.MultipleSeqAlignment'> instance (2 records of length 3823) at 7f0a7c1a7820>, <<class 'Bio.Align.MultipleSeqAlignment'> instance (2 records of length 3823) at 7f0a7d28d5d0>, <<class 'Bio.Align.MultipleSeqAlignment'> instance (2 records of length 3823) at 7f0a7773d6c0>, <<class 'Bio.Align.MultipleSeqAlignment'> instance (2 records of length 3823) at 7f0a7c1bb2b0>, <<class 'Bio.Align.MultipleSeqAlignment'> instance (2 records of length 3823) at 7f0a7c1a4c40>, <<class 'Bio.Align.MultipleSeqAlignment'> instance (2 records of length 3823) at 7f0a7773da20>, <<class 'Bio.Align.MultipleSeqAlignment'> instance (2 records of length 3823) at 7f0a7c118f40>, <<class 'Bio.Align.MultipleSeqAlignment'> instance (2 records of length 3823) at 7f0a7d28c8b0>, <<class 'Bio.Align.MultipleSeqAlignment'> instance (2 records of length 3823) at 7f0a7c1a7070>]\n",
      "Alinhamento Completo Concluído.\n"
     ]
    }
   ],
   "source": [
    "print(alignments)\n",
    "\n",
    "# Caminho para o arquivo de saída com os alinhamentos\n",
    "output_file_path = \"/home/maume/UnEB/TCC/Implementation/saida.fasta\"\n",
    "\n",
    "# Salva todos os alinhamentos em um único arquivo\n",
    "save_alignment_to_file(alignments, output_file_path)\n",
    "\n",
    "# Visualiza os resultados do alinhamento\n",
    "# for alignment in alignments:\n",
    "#     visualize_alignment(alignment)\n",
    "\n",
    "print('Alinhamento Completo Concluído.')"
   ]
  },
  {
   "cell_type": "code",
   "execution_count": null,
   "metadata": {},
   "outputs": [],
   "source": [
    "from datetime import datetime\n",
    "\n",
    "end_time = time.time()\n",
    "\n",
    "elapsed_time = end_time - start_time\n",
    "current_datetime = datetime.now().strftime('%Y-%m-%d %H:%M:%S')\n",
    "\n",
    "print(elapsed_time)\n",
    "print(current_datetime)\n",
    "\n",
    "# for i, alignment in enumerate(alignments):\n",
    "#             print(f\"Alignment {i + 1}:\")\n",
    "#             print(alignment)\n",
    "#             print(\"\\n\")\n",
    "\n",
    "# for alignment in alignments:\n",
    "visualize_alignment(alignments[0])"
   ]
  },
  {
   "cell_type": "code",
   "execution_count": null,
   "metadata": {},
   "outputs": [],
   "source": [
    "import numpy as np\n",
    "\n",
    "# print(alignment.substitutions)\n",
    "\n",
    "# Obter a matriz de substituições do alinhamento\n",
    "substitutions = alignment.substitutions\n",
    "\n",
    "# Lista com as bases representadas na matriz\n",
    "bases = ['a', 'c', 'g', 't']\n",
    "\n",
    "# Cria o heatmap\n",
    "plt.imshow(substitutions, cmap='hot', interpolation='nearest')\n",
    "plt.colorbar()\n",
    "\n",
    "# Define os rótulos dos eixos x e y com as bases\n",
    "plt.xticks(np.arange(len(bases)), bases)\n",
    "plt.yticks(np.arange(len(bases)), bases)\n",
    "\n",
    "# Exibe o gráfico\n",
    "plt.xlabel('Substituição por')\n",
    "plt.ylabel('Base')\n",
    "\n",
    "plt.title('Matriz de Substituições')\n",
    "\n",
    "plt.show()"
   ]
  },
  {
   "cell_type": "code",
   "execution_count": null,
   "metadata": {},
   "outputs": [],
   "source": [
    "output_alinhamento = \"/home/maume/UnEB/TCC/Dataset/sequencias_teste_bkp/A.2/alinhamento.fasta\"\n",
    "with open(output_alinhamento, \"w\") as f:\n",
    "        AlignIO.write(alignment, f, \"fasta\")"
   ]
  },
  {
   "cell_type": "markdown",
   "metadata": {},
   "source": [
    "### Salvando Informações Sobre a Execução"
   ]
  },
  {
   "cell_type": "code",
   "execution_count": null,
   "metadata": {},
   "outputs": [],
   "source": [
    "# import platform\n",
    "# import psutil\n",
    "\n",
    "# machine_info = platform.uname()\n",
    "# memory_info = psutil.virtual_memory()\n",
    "\n",
    "# path_directory = '/home/maume/UnEB/TCC/Implementation/pipeline_BLAST'\n",
    "\n",
    "# content = '============================================================\\n'\n",
    "# content += 'Informações Sobre a Última Execução:\\n\\n'\n",
    "# content += f'- Quantidade de Variantes Analisadas: {files_processed}\\n'\n",
    "# content += f'- Quantidade de Genomas Analisados: {sequences_processed}\\n'\n",
    "# content += f'- Quantidade de Genomas em que o Gene não foi Encontrado: {genes_not_found}\\n'\n",
    "# content += f'- Data e Hora da Execução: {current_datetime}\\n'\n",
    "# content += f'- Tempo Total de Execução: {round(elapsed_time, 2)} Segundos\\n'\n",
    "# content += f'- Caminho do Dataset Utilizado: {root_directory}\\n'\n",
    "# content += f'\\nInformações Sobre a Máquina Utilizada\\n\\n'\n",
    "# content += f'- S.O.: Ubuntu 22.04.2 LTS x86_64\\n'\n",
    "# content += f'- Kernel: {machine_info.release}\\n'\n",
    "# content += f'- CPU: Intel i7-6500U (4) @ 3.100GHz {machine_info.processor}\\n'\n",
    "# content += f'- Total de Memória: {round(memory_info.total / (1024 ** 3), 2)}GB\\n'\n",
    "\n",
    "\n",
    "# output_file_name = 'execution_information.txt'\n",
    "# output_file_path = os.path.join(path_directory, output_file_name)\n",
    "\n",
    "# with open(output_file_path, 'a') as output_file:\n",
    "#     output_file.write(content)\n",
    "\n",
    "# print(f'Information saved to file: {output_file_path}')"
   ]
  }
 ],
 "metadata": {
  "kernelspec": {
   "display_name": "bioinfo_uneb",
   "language": "python",
   "name": "python3"
  },
  "language_info": {
   "codemirror_mode": {
    "name": "ipython",
    "version": 3
   },
   "file_extension": ".py",
   "mimetype": "text/x-python",
   "name": "python",
   "nbconvert_exporter": "python",
   "pygments_lexer": "ipython3",
   "version": "3.10.12"
  },
  "orig_nbformat": 4
 },
 "nbformat": 4,
 "nbformat_minor": 2
}
