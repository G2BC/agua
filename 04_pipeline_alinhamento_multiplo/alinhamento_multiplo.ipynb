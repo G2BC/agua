{
 "cells": [
  {
   "cell_type": "code",
   "execution_count": 14,
   "metadata": {},
   "outputs": [],
   "source": [
    "import time\n",
    "\n",
    "start_time = time.time()"
   ]
  },
  {
   "cell_type": "markdown",
   "metadata": {},
   "source": [
    "### Importações das Bibs Necessárias\n"
   ]
  },
  {
   "cell_type": "code",
   "execution_count": 15,
   "metadata": {},
   "outputs": [],
   "source": [
    "from Bio import SeqIO, AlignIO\n",
    "from Bio.Seq import Seq\n",
    "from Bio.SeqRecord import SeqRecord\n",
    "from Bio.Align import MultipleSeqAlignment\n",
    "from Bio.Align.Applications import ClustalOmegaCommandline\n",
    "import matplotlib.pyplot as plt\n",
    "import os\n",
    "# import tempfile"
   ]
  },
  {
   "cell_type": "markdown",
   "metadata": {},
   "source": [
    "### Leitura das Sequências\n",
    "\n",
    "Recebe o path do arquivo fasta e retorna array com sequências\n"
   ]
  },
  {
   "cell_type": "code",
   "execution_count": 16,
   "metadata": {},
   "outputs": [],
   "source": [
    "def read_sequences(gene_file_path):\n",
    "    gene_sequences = []\n",
    "    seq_counter = 1\n",
    "\n",
    "    with open(gene_file_path) as handle:\n",
    "        for record in SeqIO.parse(handle, \"fasta\"):\n",
    "            # Criar um nome único para cada sequência\n",
    "            unique_name = f\"seq_{seq_counter}\"\n",
    "            seq_counter += 1\n",
    "\n",
    "            # Criar um objeto SeqRecord com a sequência e informações adicionais\n",
    "            seq_record = SeqRecord(record.seq, id=unique_name, name=unique_name,\n",
    "                                   description=record.description)\n",
    "            # Adicionar o objeto SeqRecord à lista\n",
    "            gene_sequences.append(seq_record)\n",
    "\n",
    "    # number_sequences = len(gene_sequences)\n",
    "    # print('number of sequences in file', gene_file_path, ' = ', number_sequences)\n",
    "    return gene_sequences\n"
   ]
  },
  {
   "cell_type": "markdown",
   "metadata": {},
   "source": [
    "### Leitura da sequência de referência"
   ]
  },
  {
   "cell_type": "code",
   "execution_count": 17,
   "metadata": {},
   "outputs": [],
   "source": [
    "def read_reference_sequence(reference_file_path):\n",
    "    with open(reference_file_path) as handle:\n",
    "        reference_sequence = \"\".join(line.strip().lower() for line in handle)\n",
    "    return reference_sequence"
   ]
  },
  {
   "cell_type": "markdown",
   "metadata": {},
   "source": [
    "### Alinhamento Múltiplo\n",
    "\n",
    "Recebe as sequências genicas e realiza o alinhamento com o ClutalOmega\n"
   ]
  },
  {
   "cell_type": "code",
   "execution_count": 18,
   "metadata": {},
   "outputs": [],
   "source": [
    "def alignment_with_reference_all_sequences(reference_sequence, gene_sequences):\n",
    "    input_file = \"input.fasta\"\n",
    "    output_file = \"output.fasta\"\n",
    "\n",
    "    # Adiciona a sequência de referência ao arquivo \"input.fasta\"\n",
    "    fake_reference = SeqRecord(Seq(reference_sequence), id=\"reference\")\n",
    "    with open(input_file, \"w\") as handle:\n",
    "        SeqIO.write([fake_reference] + gene_sequences, handle, \"fasta\")\n",
    "\n",
    "    # Executa o alinhamento usando o Clustal Omega\n",
    "    clustalomega_cline = ClustalOmegaCommandline(\n",
    "        infile=input_file,\n",
    "        outfile=output_file,\n",
    "        verbose=True,\n",
    "        auto=True\n",
    "    )\n",
    "    clustalomega_cline()\n",
    "\n",
    "    # Remove os arquivos temporários\n",
    "    os.remove(input_file)\n",
    "\n",
    "    # Lê o arquivo de saída do alinhamento\n",
    "    alignment = AlignIO.read(output_file, \"fasta\")\n",
    "    os.remove(output_file)\n",
    "\n",
    "    return alignment"
   ]
  },
  {
   "cell_type": "markdown",
   "metadata": {},
   "source": [
    "### Visualização dos Resultados"
   ]
  },
  {
   "cell_type": "code",
   "execution_count": 19,
   "metadata": {},
   "outputs": [],
   "source": [
    "def visualize_alignment(alignment):\n",
    "    # Calcula o percentual de identidade para cada posição do alinhamento\n",
    "    identity_percentages = []\n",
    "    for column in range(alignment.get_alignment_length()):\n",
    "        column_data = alignment[:, column]\n",
    "        identity_percentage = column_data.count(column_data[0]) / len(column_data) * 100\n",
    "        identity_percentages.append(identity_percentage)\n",
    "\n",
    "    # Plota o gráfico de percentual de identidade\n",
    "    plt.plot(identity_percentages)\n",
    "    plt.xlabel(\"Position\")\n",
    "    plt.ylabel(\"Identity Percentage\")\n",
    "    plt.title(\"Identity Percentage by Position\")\n",
    "    plt.show()\n",
    "\n"
   ]
  },
  {
   "cell_type": "markdown",
   "metadata": {},
   "source": [
    "### Função para salvar o resultado do alinhamento em um arquivo"
   ]
  },
  {
   "cell_type": "code",
   "execution_count": 20,
   "metadata": {},
   "outputs": [],
   "source": [
    "def save_alignment_to_file(alignment, output_file_path):\n",
    "    # Salva o alinhamento no arquivo sem a sequência de referência\n",
    "    with open(output_file_path, \"w\") as handle:\n",
    "        alignment_without_reference = MultipleSeqAlignment([record for record in alignment if record.id != \"reference\"])\n",
    "        AlignIO.write(alignment_without_reference, handle, \"fasta\")"
   ]
  },
  {
   "cell_type": "markdown",
   "metadata": {},
   "source": [
    "### Main\n"
   ]
  },
  {
   "cell_type": "code",
   "execution_count": 22,
   "metadata": {},
   "outputs": [
    {
     "name": "stdout",
     "output_type": "stream",
     "text": [
      "number of sequences in file /home/maume/UnEB/TCC/Dataset/sequencias_teste_bkp/A.1/gene_spike.fasta  =  1839\n",
      "Processando arquivo: /home/maume/UnEB/TCC/Dataset/sequencias_teste_bkp/A.1/gene_spike.fasta\n"
     ]
    },
    {
     "ename": "KeyboardInterrupt",
     "evalue": "",
     "output_type": "error",
     "traceback": [
      "\u001b[0;31m---------------------------------------------------------------------------\u001b[0m",
      "\u001b[0;31mKeyboardInterrupt\u001b[0m                         Traceback (most recent call last)",
      "\u001b[1;32m/home/maume/UnEB/TCC/Implementation/04_pipeline_alinhamento_multiplo/alinhamento_multiplo.ipynb Célula 15\u001b[0m line \u001b[0;36m3\n\u001b[1;32m     <a href='vscode-notebook-cell:/home/maume/UnEB/TCC/Implementation/04_pipeline_alinhamento_multiplo/alinhamento_multiplo.ipynb#X15sZmlsZQ%3D%3D?line=27'>28</a>\u001b[0m \u001b[39m# Realiza o alinhamento com referência\u001b[39;00m\n\u001b[1;32m     <a href='vscode-notebook-cell:/home/maume/UnEB/TCC/Implementation/04_pipeline_alinhamento_multiplo/alinhamento_multiplo.ipynb#X15sZmlsZQ%3D%3D?line=28'>29</a>\u001b[0m \u001b[39mprint\u001b[39m(\u001b[39mf\u001b[39m\u001b[39m'\u001b[39m\u001b[39mProcessando arquivo: \u001b[39m\u001b[39m{\u001b[39;00mgene_file_path\u001b[39m}\u001b[39;00m\u001b[39m'\u001b[39m)\n\u001b[0;32m---> <a href='vscode-notebook-cell:/home/maume/UnEB/TCC/Implementation/04_pipeline_alinhamento_multiplo/alinhamento_multiplo.ipynb#X15sZmlsZQ%3D%3D?line=29'>30</a>\u001b[0m alignment \u001b[39m=\u001b[39m alignment_with_reference_all_sequences(reference_sequence, gene_sequences)\n\u001b[1;32m     <a href='vscode-notebook-cell:/home/maume/UnEB/TCC/Implementation/04_pipeline_alinhamento_multiplo/alinhamento_multiplo.ipynb#X15sZmlsZQ%3D%3D?line=30'>31</a>\u001b[0m \u001b[39mprint\u001b[39m(\u001b[39mf\u001b[39m\u001b[39m'\u001b[39m\u001b[39mTotal de sequências já processadas: \u001b[39m\u001b[39m{\u001b[39;00msequences_processed\u001b[39m}\u001b[39;00m\u001b[39m'\u001b[39m)\n\u001b[1;32m     <a href='vscode-notebook-cell:/home/maume/UnEB/TCC/Implementation/04_pipeline_alinhamento_multiplo/alinhamento_multiplo.ipynb#X15sZmlsZQ%3D%3D?line=32'>33</a>\u001b[0m \u001b[39m# Caminho completo para salvar o resultado do alinhamento na pasta atual\u001b[39;00m\n",
      "\u001b[1;32m/home/maume/UnEB/TCC/Implementation/04_pipeline_alinhamento_multiplo/alinhamento_multiplo.ipynb Célula 15\u001b[0m line \u001b[0;36m1\n\u001b[1;32m     <a href='vscode-notebook-cell:/home/maume/UnEB/TCC/Implementation/04_pipeline_alinhamento_multiplo/alinhamento_multiplo.ipynb#X15sZmlsZQ%3D%3D?line=9'>10</a>\u001b[0m \u001b[39m# Executa o alinhamento usando o Clustal Omega\u001b[39;00m\n\u001b[1;32m     <a href='vscode-notebook-cell:/home/maume/UnEB/TCC/Implementation/04_pipeline_alinhamento_multiplo/alinhamento_multiplo.ipynb#X15sZmlsZQ%3D%3D?line=10'>11</a>\u001b[0m clustalomega_cline \u001b[39m=\u001b[39m ClustalOmegaCommandline(\n\u001b[1;32m     <a href='vscode-notebook-cell:/home/maume/UnEB/TCC/Implementation/04_pipeline_alinhamento_multiplo/alinhamento_multiplo.ipynb#X15sZmlsZQ%3D%3D?line=11'>12</a>\u001b[0m     infile\u001b[39m=\u001b[39minput_file,\n\u001b[1;32m     <a href='vscode-notebook-cell:/home/maume/UnEB/TCC/Implementation/04_pipeline_alinhamento_multiplo/alinhamento_multiplo.ipynb#X15sZmlsZQ%3D%3D?line=12'>13</a>\u001b[0m     outfile\u001b[39m=\u001b[39moutput_file,\n\u001b[1;32m     <a href='vscode-notebook-cell:/home/maume/UnEB/TCC/Implementation/04_pipeline_alinhamento_multiplo/alinhamento_multiplo.ipynb#X15sZmlsZQ%3D%3D?line=13'>14</a>\u001b[0m     verbose\u001b[39m=\u001b[39m\u001b[39mTrue\u001b[39;00m,\n\u001b[1;32m     <a href='vscode-notebook-cell:/home/maume/UnEB/TCC/Implementation/04_pipeline_alinhamento_multiplo/alinhamento_multiplo.ipynb#X15sZmlsZQ%3D%3D?line=14'>15</a>\u001b[0m     auto\u001b[39m=\u001b[39m\u001b[39mTrue\u001b[39;00m\n\u001b[1;32m     <a href='vscode-notebook-cell:/home/maume/UnEB/TCC/Implementation/04_pipeline_alinhamento_multiplo/alinhamento_multiplo.ipynb#X15sZmlsZQ%3D%3D?line=15'>16</a>\u001b[0m )\n\u001b[0;32m---> <a href='vscode-notebook-cell:/home/maume/UnEB/TCC/Implementation/04_pipeline_alinhamento_multiplo/alinhamento_multiplo.ipynb#X15sZmlsZQ%3D%3D?line=16'>17</a>\u001b[0m clustalomega_cline()\n\u001b[1;32m     <a href='vscode-notebook-cell:/home/maume/UnEB/TCC/Implementation/04_pipeline_alinhamento_multiplo/alinhamento_multiplo.ipynb#X15sZmlsZQ%3D%3D?line=18'>19</a>\u001b[0m \u001b[39m# Remove os arquivos temporários\u001b[39;00m\n\u001b[1;32m     <a href='vscode-notebook-cell:/home/maume/UnEB/TCC/Implementation/04_pipeline_alinhamento_multiplo/alinhamento_multiplo.ipynb#X15sZmlsZQ%3D%3D?line=19'>20</a>\u001b[0m os\u001b[39m.\u001b[39mremove(input_file)\n",
      "File \u001b[0;32m~/UnEB/TCC/Implementation/bioinfo_uneb/lib/python3.10/site-packages/Bio/Application/__init__.py:556\u001b[0m, in \u001b[0;36mAbstractCommandline.__call__\u001b[0;34m(self, stdin, stdout, stderr, cwd, env)\u001b[0m\n\u001b[1;32m    545\u001b[0m child_process \u001b[39m=\u001b[39m subprocess\u001b[39m.\u001b[39mPopen(\n\u001b[1;32m    546\u001b[0m     \u001b[39mstr\u001b[39m(\u001b[39mself\u001b[39m),\n\u001b[1;32m    547\u001b[0m     stdin\u001b[39m=\u001b[39msubprocess\u001b[39m.\u001b[39mPIPE,\n\u001b[0;32m   (...)\u001b[0m\n\u001b[1;32m    553\u001b[0m     shell\u001b[39m=\u001b[39muse_shell,\n\u001b[1;32m    554\u001b[0m )\n\u001b[1;32m    555\u001b[0m \u001b[39m# Use .communicate as can get deadlocks with .wait(), see Bug 2804\u001b[39;00m\n\u001b[0;32m--> 556\u001b[0m stdout_str, stderr_str \u001b[39m=\u001b[39m child_process\u001b[39m.\u001b[39;49mcommunicate(stdin)\n\u001b[1;32m    557\u001b[0m \u001b[39mif\u001b[39;00m \u001b[39mnot\u001b[39;00m stdout:\n\u001b[1;32m    558\u001b[0m     \u001b[39massert\u001b[39;00m \u001b[39mnot\u001b[39;00m stdout_str, stdout_str\n",
      "File \u001b[0;32m/usr/lib/python3.10/subprocess.py:1154\u001b[0m, in \u001b[0;36mPopen.communicate\u001b[0;34m(self, input, timeout)\u001b[0m\n\u001b[1;32m   1151\u001b[0m     endtime \u001b[39m=\u001b[39m \u001b[39mNone\u001b[39;00m\n\u001b[1;32m   1153\u001b[0m \u001b[39mtry\u001b[39;00m:\n\u001b[0;32m-> 1154\u001b[0m     stdout, stderr \u001b[39m=\u001b[39m \u001b[39mself\u001b[39;49m\u001b[39m.\u001b[39;49m_communicate(\u001b[39minput\u001b[39;49m, endtime, timeout)\n\u001b[1;32m   1155\u001b[0m \u001b[39mexcept\u001b[39;00m \u001b[39mKeyboardInterrupt\u001b[39;00m:\n\u001b[1;32m   1156\u001b[0m     \u001b[39m# https://bugs.python.org/issue25942\u001b[39;00m\n\u001b[1;32m   1157\u001b[0m     \u001b[39m# See the detailed comment in .wait().\u001b[39;00m\n\u001b[1;32m   1158\u001b[0m     \u001b[39mif\u001b[39;00m timeout \u001b[39mis\u001b[39;00m \u001b[39mnot\u001b[39;00m \u001b[39mNone\u001b[39;00m:\n",
      "File \u001b[0;32m/usr/lib/python3.10/subprocess.py:2021\u001b[0m, in \u001b[0;36mPopen._communicate\u001b[0;34m(self, input, endtime, orig_timeout)\u001b[0m\n\u001b[1;32m   2014\u001b[0m     \u001b[39mself\u001b[39m\u001b[39m.\u001b[39m_check_timeout(endtime, orig_timeout,\n\u001b[1;32m   2015\u001b[0m                         stdout, stderr,\n\u001b[1;32m   2016\u001b[0m                         skip_check_and_raise\u001b[39m=\u001b[39m\u001b[39mTrue\u001b[39;00m)\n\u001b[1;32m   2017\u001b[0m     \u001b[39mraise\u001b[39;00m \u001b[39mRuntimeError\u001b[39;00m(  \u001b[39m# Impossible :)\u001b[39;00m\n\u001b[1;32m   2018\u001b[0m         \u001b[39m'\u001b[39m\u001b[39m_check_timeout(..., skip_check_and_raise=True) \u001b[39m\u001b[39m'\u001b[39m\n\u001b[1;32m   2019\u001b[0m         \u001b[39m'\u001b[39m\u001b[39mfailed to raise TimeoutExpired.\u001b[39m\u001b[39m'\u001b[39m)\n\u001b[0;32m-> 2021\u001b[0m ready \u001b[39m=\u001b[39m selector\u001b[39m.\u001b[39;49mselect(timeout)\n\u001b[1;32m   2022\u001b[0m \u001b[39mself\u001b[39m\u001b[39m.\u001b[39m_check_timeout(endtime, orig_timeout, stdout, stderr)\n\u001b[1;32m   2024\u001b[0m \u001b[39m# XXX Rewrite these to use non-blocking I/O on the file\u001b[39;00m\n\u001b[1;32m   2025\u001b[0m \u001b[39m# objects; they are no longer using C stdio!\u001b[39;00m\n",
      "File \u001b[0;32m/usr/lib/python3.10/selectors.py:416\u001b[0m, in \u001b[0;36m_PollLikeSelector.select\u001b[0;34m(self, timeout)\u001b[0m\n\u001b[1;32m    414\u001b[0m ready \u001b[39m=\u001b[39m []\n\u001b[1;32m    415\u001b[0m \u001b[39mtry\u001b[39;00m:\n\u001b[0;32m--> 416\u001b[0m     fd_event_list \u001b[39m=\u001b[39m \u001b[39mself\u001b[39;49m\u001b[39m.\u001b[39;49m_selector\u001b[39m.\u001b[39;49mpoll(timeout)\n\u001b[1;32m    417\u001b[0m \u001b[39mexcept\u001b[39;00m \u001b[39mInterruptedError\u001b[39;00m:\n\u001b[1;32m    418\u001b[0m     \u001b[39mreturn\u001b[39;00m ready\n",
      "\u001b[0;31mKeyboardInterrupt\u001b[0m: "
     ]
    }
   ],
   "source": [
    "# Diretório principal onde estão as pastas com os arquivos gene_spike.fasta\n",
    "main_directory = \"/home/maume/UnEB/TCC/Dataset/sequencias_teste_bkp\"\n",
    "\n",
    "#Caminho para o arquivo com a seq de referência\n",
    "reference_sequence_path = \"/home/maume/UnEB/TCC/Implementation/refSpike.fasta\"\n",
    "\n",
    "# Lista de todas as pastas dentro do diretório principal\n",
    "folders = [f for f in os.listdir(main_directory) if os.path.isdir(os.path.join(main_directory, f))]\n",
    "\n",
    "# Variáveis para acompanhar o número de arquivos, sequencias e genes não processados\n",
    "sequences_processed = 0\n",
    "\n",
    "# Loop através das pastas\n",
    "for folder in folders:\n",
    "    # Caminho completo para a pasta atual\n",
    "    folder_path = os.path.join(main_directory, folder)\n",
    "\n",
    "    # Caminho completo para o arquivo gene_spike.fasta na pasta atual\n",
    "    gene_file_path = os.path.join(folder_path, \"gene_spike.fasta\")\n",
    "\n",
    "    # Lê a sequência de referência uma vez para economizar tempo de processamento\n",
    "    reference_sequence = read_reference_sequence(reference_sequence_path)\n",
    "\n",
    "    # Lê as sequências do arquivo gene_spike.fasta\n",
    "    gene_sequences = read_sequences(gene_file_path)\n",
    "    sequences_processed += len(gene_sequences)\n",
    "\n",
    "    # Realiza o alinhamento com referência\n",
    "    print(f'Processando arquivo: {gene_file_path}')\n",
    "    alignment = alignment_with_reference_all_sequences(reference_sequence, gene_sequences)\n",
    "    print(f'Total de sequências já processadas: {sequences_processed}')\n",
    "\n",
    "    # Caminho completo para salvar o resultado do alinhamento na pasta atual\n",
    "    output_file_path = os.path.join(folder_path, \"alignment.fasta\")\n",
    "\n",
    "    # Salva o resultado do alinhamento na pasta atual\n",
    "    save_alignment_to_file(alignment, output_file_path)\n",
    "\n",
    "print('Busca Completa Concluída.')\n",
    "\n",
    "### FORMA ANTIGA COM 1 ARQUIVO\n",
    "\n",
    "# # Realiza a leitura das sequências\n",
    "# gene_sequences = read_sequences(gene_file_path)\n",
    "\n",
    "# # Lê a sequência de referência\n",
    "# reference_sequence = read_reference_sequence(gene_reference_path)\n",
    "\n",
    "# # Realiza o sequenciamento múltiplo com o Clustal Omega\n",
    "# alignment = alignment_with_reference_all_sequences(reference_sequence, gene_sequences)\n",
    "\n",
    "# visualize_alignment(alignment)\n",
    "\n",
    "# print('Busca Completa Concluída.')"
   ]
  },
  {
   "cell_type": "code",
   "execution_count": null,
   "metadata": {},
   "outputs": [
    {
     "name": "stdout",
     "output_type": "stream",
     "text": [
      "1204.8891406059265\n",
      "2023-09-12 09:16:09\n"
     ]
    }
   ],
   "source": [
    "from datetime import datetime\n",
    "\n",
    "end_time = time.time()\n",
    "\n",
    "elapsed_time = end_time - start_time\n",
    "current_datetime = datetime.now().strftime('%Y-%m-%d %H:%M:%S')\n",
    "\n",
    "print(elapsed_time)\n",
    "print(current_datetime)"
   ]
  },
  {
   "cell_type": "code",
   "execution_count": null,
   "metadata": {},
   "outputs": [
    {
     "name": "stdout",
     "output_type": "stream",
     "text": [
      "          a         c         g     k    m     n     r         t     y\n",
      "a 7361054.0       0.0    1367.5   0.0  0.0 285.0 111.5     219.5   0.0\n",
      "c       0.0 4730609.0     165.0   0.0 57.5 396.0   0.0     835.5 114.0\n",
      "g    1367.5     165.0 4594632.0  58.5  0.0  57.0  56.0     780.5   0.0\n",
      "k       0.0       0.0      58.5   6.0  0.0   0.0   0.0     280.5   0.0\n",
      "m       0.0      57.5       0.0   0.0  0.0   0.0   0.0       0.0   0.0\n",
      "n     285.0     396.0      57.0   0.0  0.0   0.0   0.0     456.0   0.0\n",
      "r     111.5       0.0      56.0   0.0  0.0   0.0   0.0       0.0   0.0\n",
      "t     219.5     835.5     780.5 280.5  0.0 456.0   0.0 8275354.0  57.0\n",
      "y       0.0     114.0       0.0   0.0  0.0   0.0   0.0      57.0   0.0\n",
      "\n"
     ]
    },
    {
     "data": {
      "image/png": "[encoded data removed]",
      "text/plain": [
       "<Figure size 640x480 with 2 Axes>"
      ]
     },
     "metadata": {},
     "output_type": "display_data"
    }
   ],
   "source": [
    "import numpy as np\n",
    "\n",
    "print(alignment.substitutions)\n",
    "\n",
    "# Obter a matriz de substituições do alinhamento\n",
    "substitutions = alignment.substitutions\n",
    "\n",
    "# Lista com as bases representadas na matriz\n",
    "bases = ['a', 'c', 'g', 'k', 'm', 'n', 'r', 't', 'y']\n",
    "\n",
    "# Cria o heatmap\n",
    "plt.imshow(substitutions, cmap='hot', interpolation='nearest')\n",
    "plt.colorbar()\n",
    "\n",
    "# Define os rótulos dos eixos x e y com as bases\n",
    "plt.xticks(np.arange(len(bases)), bases)\n",
    "plt.yticks(np.arange(len(bases)), bases)\n",
    "\n",
    "# Exibe o gráfico\n",
    "plt.xlabel('Substituição por')\n",
    "plt.ylabel('Base')\n",
    "\n",
    "plt.title('Matriz de Substituições')\n",
    "\n",
    "plt.show()"
   ]
  },
  {
   "cell_type": "code",
   "execution_count": null,
   "metadata": {},
   "outputs": [],
   "source": [
    "output_alinhamento = \"/home/maume/UnEB/TCC/Dataset/sequencias_teste_bkp/A.2/alinhamento.fasta\"\n",
    "with open(output_alinhamento, \"w\") as f:\n",
    "        AlignIO.write(alignment, f, \"fasta\")"
   ]
  },
  {
   "cell_type": "markdown",
   "metadata": {},
   "source": [
    "### Salvando Informações Sobre a Execução"
   ]
  },
  {
   "cell_type": "code",
   "execution_count": null,
   "metadata": {},
   "outputs": [],
   "source": [
    "# import platform\n",
    "# import psutil\n",
    "\n",
    "# machine_info = platform.uname()\n",
    "# memory_info = psutil.virtual_memory()\n",
    "\n",
    "# path_directory = '/home/maume/UnEB/TCC/Implementation/pipeline_BLAST'\n",
    "\n",
    "# content = '============================================================\\n'\n",
    "# content += 'Informações Sobre a Última Execução:\\n\\n'\n",
    "# content += f'- Quantidade de Variantes Analisadas: {files_processed}\\n'\n",
    "# content += f'- Quantidade de Genomas Analisados: {sequences_processed}\\n'\n",
    "# content += f'- Quantidade de Genomas em que o Gene não foi Encontrado: {genes_not_found}\\n'\n",
    "# content += f'- Data e Hora da Execução: {current_datetime}\\n'\n",
    "# content += f'- Tempo Total de Execução: {round(elapsed_time, 2)} Segundos\\n'\n",
    "# content += f'- Caminho do Dataset Utilizado: {root_directory}\\n'\n",
    "# content += f'\\nInformações Sobre a Máquina Utilizada\\n\\n'\n",
    "# content += f'- S.O.: Ubuntu 22.04.2 LTS x86_64\\n'\n",
    "# content += f'- Kernel: {machine_info.release}\\n'\n",
    "# content += f'- CPU: Intel i7-6500U (4) @ 3.100GHz {machine_info.processor}\\n'\n",
    "# content += f'- Total de Memória: {round(memory_info.total / (1024 ** 3), 2)}GB\\n'\n",
    "\n",
    "\n",
    "# output_file_name = 'execution_information.txt'\n",
    "# output_file_path = os.path.join(path_directory, output_file_name)\n",
    "\n",
    "# with open(output_file_path, 'a') as output_file:\n",
    "#     output_file.write(content)\n",
    "\n",
    "# print(f'Information saved to file: {output_file_path}')"
   ]
  }
 ],
 "metadata": {
  "kernelspec": {
   "display_name": "bioinfo_uneb",
   "language": "python",
   "name": "python3"
  },
  "language_info": {
   "codemirror_mode": {
    "name": "ipython",
    "version": 3
   },
   "file_extension": ".py",
   "mimetype": "text/x-python",
   "name": "python",
   "nbconvert_exporter": "python",
   "pygments_lexer": "ipython3",
   "version": "3.10.12"
  },
  "orig_nbformat": 4
 },
 "nbformat": 4,
 "nbformat_minor": 2
}
