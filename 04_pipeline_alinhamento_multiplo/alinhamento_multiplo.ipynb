{
 "cells": [
  {
   "cell_type": "code",
   "execution_count": 4,
   "metadata": {},
   "outputs": [],
   "source": [
    "import time\n",
    "\n",
    "start_time = time.time()"
   ]
  },
  {
   "cell_type": "markdown",
   "metadata": {},
   "source": [
    "### Importações das Bibs Necessárias\n"
   ]
  },
  {
   "cell_type": "code",
   "execution_count": 5,
   "metadata": {},
   "outputs": [],
   "source": [
    "from Bio import SeqIO, AlignIO\n",
    "from Bio.Seq import Seq\n",
    "from Bio.SeqRecord import SeqRecord\n",
    "from Bio.Align.Applications import ClustalOmegaCommandline\n",
    "import matplotlib.pyplot as plt\n",
    "import os\n",
    "# import tempfile"
   ]
  },
  {
   "cell_type": "markdown",
   "metadata": {},
   "source": [
    "### Leitura das Sequências\n",
    "\n",
    "Recebe o path do arquivo fasta e retorna array com sequências\n"
   ]
  },
  {
   "cell_type": "code",
   "execution_count": 6,
   "metadata": {},
   "outputs": [],
   "source": [
    "def read_sequences(gene_file_path):\n",
    "    gene_sequences = []\n",
    "    seq_counter = 1\n",
    "\n",
    "    with open(gene_file_path) as handle:\n",
    "        for record in SeqIO.parse(handle, \"fasta\"):\n",
    "            # Criar um nome único para cada sequência\n",
    "            unique_name = f\"seq_{seq_counter}\"\n",
    "            seq_counter += 1\n",
    "\n",
    "            # Criar um objeto SeqRecord com a sequência e informações adicionais\n",
    "            seq_record = SeqRecord(record.seq, id=unique_name, name=unique_name,\n",
    "                                   description=record.description)\n",
    "            # Adicionar o objeto SeqRecord à lista\n",
    "            gene_sequences.append(seq_record)\n",
    "\n",
    "    number_sequences = len(gene_sequences)\n",
    "    print('number of sequences in file', gene_file_path, ' = ', number_sequences)\n",
    "    return gene_sequences\n"
   ]
  },
  {
   "cell_type": "markdown",
   "metadata": {},
   "source": [
    "### Leitura da sequência de referência"
   ]
  },
  {
   "cell_type": "code",
   "execution_count": 10,
   "metadata": {},
   "outputs": [],
   "source": [
    "def read_reference_sequence(reference_file_path):\n",
    "    with open(reference_file_path) as handle:\n",
    "        reference_sequence = \"\".join(line.strip().lower() for line in handle)\n",
    "    return reference_sequence"
   ]
  },
  {
   "cell_type": "markdown",
   "metadata": {},
   "source": [
    "### Alinhamento Múltiplo\n",
    "\n",
    "Recebe as sequências genicas e realiza o alinhamento com o ClutalOmega\n"
   ]
  },
  {
   "cell_type": "code",
   "execution_count": 7,
   "metadata": {},
   "outputs": [],
   "source": [
    "def alignment_with_reference_all_sequences(reference_sequence, gene_sequences):\n",
    "    input_file = \"input.fasta\"\n",
    "    output_file = \"output.fasta\"\n",
    "\n",
    "    # Adiciona a sequência de referência ao arquivo \"input.fasta\"\n",
    "    fake_reference = SeqRecord(Seq(reference_sequence), id=\"reference\")\n",
    "    with open(input_file, \"w\") as handle:\n",
    "        SeqIO.write([fake_reference] + gene_sequences, handle, \"fasta\")\n",
    "\n",
    "    # Executa o alinhamento usando o Clustal Omega\n",
    "    clustalomega_cline = ClustalOmegaCommandline(\n",
    "        infile=input_file,\n",
    "        outfile=output_file,\n",
    "        verbose=True,\n",
    "        auto=True\n",
    "    )\n",
    "    clustalomega_cline()\n",
    "\n",
    "    # Remove os arquivos temporários\n",
    "    os.remove(input_file)\n",
    "\n",
    "    # Lê o arquivo de saída do alinhamento\n",
    "    alignment = AlignIO.read(output_file, \"fasta\")\n",
    "    os.remove(output_file)\n",
    "\n",
    "    return alignment"
   ]
  },
  {
   "cell_type": "markdown",
   "metadata": {},
   "source": [
    "### Visualização dos Resultados"
   ]
  },
  {
   "cell_type": "code",
   "execution_count": 8,
   "metadata": {},
   "outputs": [],
   "source": [
    "def visualize_alignment(alignment):\n",
    "    # Calcula o percentual de identidade para cada posição do alinhamento\n",
    "    identity_percentages = []\n",
    "    for column in range(alignment.get_alignment_length()):\n",
    "        column_data = alignment[:, column]\n",
    "        identity_percentage = column_data.count(column_data[0]) / len(column_data) * 100\n",
    "        identity_percentages.append(identity_percentage)\n",
    "\n",
    "    # Plota o gráfico de percentual de identidade\n",
    "    plt.plot(identity_percentages)\n",
    "    plt.xlabel(\"Position\")\n",
    "    plt.ylabel(\"Identity Percentage\")\n",
    "    plt.title(\"Identity Percentage by Position\")\n",
    "    plt.show()\n",
    "\n"
   ]
  },
  {
   "cell_type": "markdown",
   "metadata": {},
   "source": [
    "### Main\n"
   ]
  },
  {
   "cell_type": "code",
   "execution_count": 11,
   "metadata": {},
   "outputs": [
    {
     "name": "stdout",
     "output_type": "stream",
     "text": [
      "number of sequences in file /home/maume/UnEB/TCC/Dataset/sequencias_teste_bkp/A.2/gene_spike.fasta  =  117\n"
     ]
    },
    {
     "data": {
      "image/png": "[encoded data removed]",
      "text/plain": [
       "<Figure size 640x480 with 1 Axes>"
      ]
     },
     "metadata": {},
     "output_type": "display_data"
    },
    {
     "name": "stdout",
     "output_type": "stream",
     "text": [
      "Busca Completa Concluída.\n"
     ]
    }
   ],
   "source": [
    "# Caminho para o arquivo com os genes\n",
    "gene_file_path = \"/home/maume/UnEB/TCC/Dataset/sequencias_teste_bkp/A.2/gene_spike.fasta\"\n",
    "\n",
    "#Caminho para o arquivo com a seq de referência\n",
    "gene_reference_path = \"/home/maume/UnEB/TCC/Implementation/refSpike.fasta\"\n",
    "\n",
    "# Realiza a leitura das sequências\n",
    "gene_sequences = read_sequences(gene_file_path)\n",
    "\n",
    "# Lê a sequência de referência\n",
    "reference_sequence = read_reference_sequence(gene_reference_path)\n",
    "\n",
    "# Realiza o sequenciamento múltiplo com o Clustal Omega\n",
    "alignment = alignment_with_reference_all_sequences(reference_sequence, gene_sequences)\n",
    "\n",
    "visualize_alignment(alignment)\n",
    "\n",
    "print('Busca Completa Concluída.')"
   ]
  },
  {
   "cell_type": "code",
   "execution_count": null,
   "metadata": {},
   "outputs": [
    {
     "name": "stdout",
     "output_type": "stream",
     "text": [
      "1832.110979795456\n",
      "2023-07-16 22:47:30\n"
     ]
    }
   ],
   "source": [
    "from datetime import datetime\n",
    "\n",
    "end_time = time.time()\n",
    "\n",
    "elapsed_time = end_time - start_time\n",
    "current_datetime = datetime.now().strftime('%Y-%m-%d %H:%M:%S')\n",
    "\n",
    "print(elapsed_time)\n",
    "print(current_datetime)"
   ]
  },
  {
   "cell_type": "code",
   "execution_count": null,
   "metadata": {},
   "outputs": [
    {
     "name": "stdout",
     "output_type": "stream",
     "text": [
      "          a         c         g     k    m     n     r         t     y\n",
      "a 7233282.0       0.0    1301.0   0.0  0.0 282.5 110.5     217.5   0.0\n",
      "c       0.0 4648282.0     163.5   0.0 57.0 563.5   0.0     774.5 113.0\n",
      "g    1301.0     163.5 4514405.0  58.0  0.0  56.5  55.5     773.5   0.0\n",
      "k       0.0       0.0      58.0   6.0  0.0   0.0   0.0     278.0   0.0\n",
      "m       0.0      57.0       0.0   0.0  0.0   0.0   0.0       0.0   0.0\n",
      "n     282.5     563.5      56.5   0.0  0.0   3.0   0.0     452.0   0.0\n",
      "r     110.5       0.0      55.5   0.0  0.0   0.0   0.0       0.0   0.0\n",
      "t     217.5     774.5     773.5 278.0  0.0 452.0   0.0 8130778.0  56.5\n",
      "y       0.0     113.0       0.0   0.0  0.0   0.0   0.0      56.5   0.0\n",
      "\n"
     ]
    },
    {
     "data": {
      "image/png": "[encoded data removed]",
      "text/plain": [
       "<Figure size 640x480 with 2 Axes>"
      ]
     },
     "metadata": {},
     "output_type": "display_data"
    }
   ],
   "source": [
    "import numpy as np\n",
    "\n",
    "print(alignment.substitutions)\n",
    "\n",
    "# Obter a matriz de substituições do alinhamento\n",
    "substitutions = alignment.substitutions\n",
    "\n",
    "# Lista com as bases representadas na matriz\n",
    "bases = ['a', 'c', 'g', 'k', 'm', 'n', 'r', 't', 'y']\n",
    "\n",
    "# Cria o heatmap\n",
    "plt.imshow(substitutions, cmap='hot', interpolation='nearest')\n",
    "plt.colorbar()\n",
    "\n",
    "# Define os rótulos dos eixos x e y com as bases\n",
    "plt.xticks(np.arange(len(bases)), bases)\n",
    "plt.yticks(np.arange(len(bases)), bases)\n",
    "\n",
    "# Exibe o gráfico\n",
    "plt.xlabel('Substituição por')\n",
    "plt.ylabel('Base')\n",
    "\n",
    "plt.title('Matriz de Substituições')\n",
    "\n",
    "plt.show()"
   ]
  },
  {
   "cell_type": "code",
   "execution_count": null,
   "metadata": {},
   "outputs": [],
   "source": [
    "output_alinhamento = \"/home/maume/UnEB/TCC/Dataset/sequencias_teste_bkp/A.2/alinhamento.fasta\"\n",
    "with open(output_alinhamento, \"w\") as f:\n",
    "        AlignIO.write(alignment, f, \"fasta\")"
   ]
  },
  {
   "cell_type": "markdown",
   "metadata": {},
   "source": [
    "### Salvando Informações Sobre a Execução"
   ]
  },
  {
   "cell_type": "code",
   "execution_count": null,
   "metadata": {},
   "outputs": [],
   "source": [
    "# import platform\n",
    "# import psutil\n",
    "\n",
    "# machine_info = platform.uname()\n",
    "# memory_info = psutil.virtual_memory()\n",
    "\n",
    "# path_directory = '/home/maume/UnEB/TCC/Implementation/pipeline_BLAST'\n",
    "\n",
    "# content = '============================================================\\n'\n",
    "# content += 'Informações Sobre a Última Execução:\\n\\n'\n",
    "# content += f'- Quantidade de Variantes Analisadas: {files_processed}\\n'\n",
    "# content += f'- Quantidade de Genomas Analisados: {sequences_processed}\\n'\n",
    "# content += f'- Quantidade de Genomas em que o Gene não foi Encontrado: {genes_not_found}\\n'\n",
    "# content += f'- Data e Hora da Execução: {current_datetime}\\n'\n",
    "# content += f'- Tempo Total de Execução: {round(elapsed_time, 2)} Segundos\\n'\n",
    "# content += f'- Caminho do Dataset Utilizado: {root_directory}\\n'\n",
    "# content += f'\\nInformações Sobre a Máquina Utilizada\\n\\n'\n",
    "# content += f'- S.O.: Ubuntu 22.04.2 LTS x86_64\\n'\n",
    "# content += f'- Kernel: {machine_info.release}\\n'\n",
    "# content += f'- CPU: Intel i7-6500U (4) @ 3.100GHz {machine_info.processor}\\n'\n",
    "# content += f'- Total de Memória: {round(memory_info.total / (1024 ** 3), 2)}GB\\n'\n",
    "\n",
    "\n",
    "# output_file_name = 'execution_information.txt'\n",
    "# output_file_path = os.path.join(path_directory, output_file_name)\n",
    "\n",
    "# with open(output_file_path, 'a') as output_file:\n",
    "#     output_file.write(content)\n",
    "\n",
    "# print(f'Information saved to file: {output_file_path}')"
   ]
  }
 ],
 "metadata": {
  "kernelspec": {
   "display_name": "bioinfo_uneb",
   "language": "python",
   "name": "python3"
  },
  "language_info": {
   "codemirror_mode": {
    "name": "ipython",
    "version": 3
   },
   "file_extension": ".py",
   "mimetype": "text/x-python",
   "name": "python",
   "nbconvert_exporter": "python",
   "pygments_lexer": "ipython3",
   "version": "3.10.12"
  },
  "orig_nbformat": 4
 },
 "nbformat": 4,
 "nbformat_minor": 2
}
