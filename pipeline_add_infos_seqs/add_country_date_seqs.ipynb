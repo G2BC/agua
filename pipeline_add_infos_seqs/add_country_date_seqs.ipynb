{
 "cells": [
  {
   "cell_type": "code",
   "execution_count": 22,
   "metadata": {},
   "outputs": [],
   "source": [
    "import os\n",
    "from Bio import SeqIO\n",
    "from Bio.Seq import Seq\n",
    "from Bio.SeqRecord import SeqRecord\n",
    "import pandas as pd\n",
    "import re\n",
    "from datetime import datetime"
   ]
  },
  {
   "cell_type": "code",
   "execution_count": 2,
   "metadata": {},
   "outputs": [],
   "source": [
    "def read_gene_sequences(file_gene_sequences):\n",
    "    multiple_genes = []\n",
    "    with open(file_gene_sequences) as handle:\n",
    "        for values in SeqIO.FastaIO.SimpleFastaParser(handle):\n",
    "            sequence_id, sequence = values\n",
    "            multiple_genes.append((sequence_id, sequence))\n",
    "\n",
    "    return multiple_genes"
   ]
  },
  {
   "cell_type": "code",
   "execution_count": 34,
   "metadata": {},
   "outputs": [],
   "source": [
    "def chave_ordenacao(item):\n",
    "    # Extrai a data da string e converte para um objeto datetime\n",
    "    data_str = item.id.split('_')[-1]\n",
    "    data = datetime.strptime(data_str, \"%Y-%m-%d\")\n",
    "    return data"
   ]
  },
  {
   "cell_type": "code",
   "execution_count": 37,
   "metadata": {},
   "outputs": [
    {
     "name": "stdout",
     "output_type": "stream",
     "text": [
      "Analisando sequências em B.1.1.529\n",
      "Analisando sequências em B.1.1.7\n"
     ]
    },
    {
     "name": "stderr",
     "output_type": "stream",
     "text": [
      "/tmp/ipykernel_7352/540187629.py:24: DtypeWarning: Columns (35,44,64,80,82,84) have mixed types. Specify dtype option on import or set low_memory=False.\n",
      "  dados_planilha = pd.read_csv(arquivo_csv)\n"
     ]
    },
    {
     "name": "stdout",
     "output_type": "stream",
     "text": [
      "Analisando sequências em B.1.617.2\n"
     ]
    },
    {
     "name": "stderr",
     "output_type": "stream",
     "text": [
      "/tmp/ipykernel_7352/540187629.py:24: DtypeWarning: Columns (35,44,64,78,82,83,84) have mixed types. Specify dtype option on import or set low_memory=False.\n",
      "  dados_planilha = pd.read_csv(arquivo_csv)\n"
     ]
    },
    {
     "name": "stdout",
     "output_type": "stream",
     "text": [
      "Analisando sequências em P.1\n"
     ]
    },
    {
     "name": "stderr",
     "output_type": "stream",
     "text": [
      "/tmp/ipykernel_7352/540187629.py:24: DtypeWarning: Columns (35,64) have mixed types. Specify dtype option on import or set low_memory=False.\n",
      "  dados_planilha = pd.read_csv(arquivo_csv)\n"
     ]
    },
    {
     "name": "stdout",
     "output_type": "stream",
     "text": [
      "Analisando sequências em B.1.351\n",
      "Concluído!\n"
     ]
    }
   ],
   "source": [
    "# Diretório principal onde você possui várias pastas\n",
    "main_directory = '/home/m_souza/tcc/dataset/new_dataset_vagner'\n",
    "\n",
    "# Iterar sobre as pastas no diretório principal\n",
    "for pasta in os.listdir(main_directory):\n",
    "    pasta_path = os.path.join(main_directory, pasta)\n",
    "\n",
    "    # Verificar se é um diretório\n",
    "    if os.path.isdir(pasta_path):\n",
    "        # Procurar pelo arquivo sequencias_cortadas.fasta na pasta\n",
    "        arquivo_sequencias = os.path.join(pasta_path, 'sequencias_spike_final.fasta')\n",
    "        arquivo_csv = os.path.join(pasta_path, 'BVBRC_genome.csv')\n",
    "\n",
    "        path_sequencias_novas = os.path.join(pasta_path, 'sequencias_spike_final_ok.fasta')\n",
    "\n",
    "        # Verificar se o arquivo existe\n",
    "        if os.path.exists(arquivo_sequencias):\n",
    "            print(f'Analisando sequências em {pasta}')\n",
    "\n",
    "            # Ler as sequências do arquivo usando a Biopython\n",
    "            sequencias = read_gene_sequences(arquivo_sequencias)\n",
    "\n",
    "            # Lê o arquivo CSV\n",
    "            dados_planilha = pd.read_csv(arquivo_csv)\n",
    "\n",
    "            sequencias_novas = []\n",
    "            for seq_tuple in sequencias:\n",
    "                seq_id, seq_sequence = seq_tuple\n",
    "                accn = seq_id.split('_')[1]\n",
    "\n",
    "                # Filtra os dados onde a coluna 'GenBank Accessions' é igual ao valor de accn\n",
    "                linha_selecionada = dados_planilha[dados_planilha['GenBank Accessions'] == accn]\n",
    "                if not linha_selecionada.empty:\n",
    "                    # Obtém os valores das colunas 'Isolation Country' e 'Collection Date'\n",
    "                    collection_date = linha_selecionada['Collection Date'].values[0]\n",
    "                    # Aplica o filtro de data usando expressão regular\n",
    "                    if pd.notna(collection_date) and re.match(r'\\d{4}-\\d{2}-\\d{2}', collection_date):\n",
    "                        isolation_country = linha_selecionada['Isolation Country'].values[0]\n",
    "\n",
    "                        # Concatena os valores com accn\n",
    "                        novo_id = f\"{accn}_{isolation_country}_{collection_date}\"\n",
    "\n",
    "                        # Criar um objeto SeqRecord com ID e sequência\n",
    "                        seq_record = SeqRecord(Seq(seq_sequence), id=novo_id, description='')\n",
    "                        sequencias_novas.append(seq_record)\n",
    "                    else:\n",
    "                        (f\"{accn} - {collection_date} - fora do formato AAAA/MM/DD.\")\n",
    "                else:\n",
    "                    print(f\"Nenhuma correspondência encontrada para o accn {accn}.\")\n",
    "\n",
    "            # Ordena a lista com base na função de chave\n",
    "            sequencias_ordenadas = sorted(sequencias_novas, key=chave_ordenacao)\n",
    "            # for sequencia in itens_ordenados:\n",
    "            #     print(sequencia.id)\n",
    "\n",
    "            # Sobrescrever o arquivo original com as sequências filtradas\n",
    "            with open(path_sequencias_novas, \"w\") as novo_arquivo:\n",
    "                SeqIO.write(sequencias_ordenadas, novo_arquivo, \"fasta\")\n",
    "\n",
    "\n",
    "print('Concluído!')\n"
   ]
  }
 ],
 "metadata": {
  "kernelspec": {
   "display_name": ".bioEnv",
   "language": "python",
   "name": "python3"
  },
  "language_info": {
   "codemirror_mode": {
    "name": "ipython",
    "version": 3
   },
   "file_extension": ".py",
   "mimetype": "text/x-python",
   "name": "python",
   "nbconvert_exporter": "python",
   "pygments_lexer": "ipython3",
   "version": "3.10.12"
  },
  "orig_nbformat": 4
 },
 "nbformat": 4,
 "nbformat_minor": 2
}
